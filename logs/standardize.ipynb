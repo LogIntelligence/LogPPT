{
 "cells": [
  {
   "cell_type": "code",
   "execution_count": 2,
   "outputs": [],
   "source": [
    "import pandas as pd\n",
    "import os\n",
    "from collections import Counter\n",
    "from logppt.evaluation.post_process import correct_single_template"
   ],
   "metadata": {
    "collapsed": false,
    "pycharm": {
     "name": "#%%\n"
    }
   }
  },
  {
   "cell_type": "code",
   "execution_count": 3,
   "outputs": [],
   "source": [
    "rdir = \"../benchmark_results/32shot/1/PreLog_adaptive\"\n",
    "os.makedirs(rdir, exist_ok=True)"
   ],
   "metadata": {
    "collapsed": false,
    "pycharm": {
     "name": "#%%\n"
    }
   }
  },
  {
   "cell_type": "code",
   "execution_count": 5,
   "outputs": [
    {
     "name": "stdout",
     "output_type": "stream",
     "text": [
      "===========  HealthApp  ===========\n",
      "===========  OpenStack  ===========\n",
      "===========  .DS_Store  ===========\n",
      "===========  OpenSSH  ===========\n",
      "===========  Proxifier  ===========\n",
      "===========  HPC  ===========\n",
      "===========  Zookeeper  ===========\n",
      "===========  standardize.ipynb  ===========\n",
      "===========  README.md  ===========\n",
      "===========  Mac  ===========\n",
      "===========  Hadoop  ===========\n",
      "===========  Linux  ===========\n",
      "===========  Android  ===========\n",
      "===========  HDFS  ===========\n",
      "===========  BGL  ===========\n",
      "===========  BuildLog  ===========\n",
      "===========  Windows  ===========\n",
      "===========  Apache  ===========\n",
      "===========  Thunderbird  ===========\n",
      "===========  Spark  ===========\n"
     ]
    }
   ],
   "source": [
    "for dataset in os.listdir(\".\"):\n",
    "    print(\"=========== \", dataset, \" ===========\")\n",
    "    if os.path.isdir(dataset) and dataset != \"BuildLog\":\n",
    "        try:\n",
    "            # logs_df = pd.read_csv(f\"{dataset}/{dataset}_2k.log_structured_corrected.csv\")\n",
    "            logs_df = pd.read_csv(f\"{rdir}/{dataset}_2k.log_structured.csv\")\n",
    "            # logs_df[\"EventTemplate\"] = logs_df[\"EventTemplate\"].apply(lambda x: correct_single_template(x))\n",
    "            templates = logs_df[\"EventTemplate\"].tolist()\n",
    "            template_count = Counter(templates)\n",
    "            template_df = pd.DataFrame.from_dict(template_count, orient='index').reset_index()\n",
    "            template_df.columns = [\"EventTemplate\", \"Occurrences\"]\n",
    "            template_df = template_df.sort_values(by=[\"Occurrences\"], ascending=False)\n",
    "            template_df['EventId'] = [f\"E{i}\" for i in range(1, len(template_df) + 1)]\n",
    "            # set EventId appear first\n",
    "            cols = template_df.columns.tolist()\n",
    "            cols = cols[-1:] + cols[:-1]\n",
    "            template_df = template_df[cols]\n",
    "            template_df.to_csv(f\"{rdir}/{dataset}_2k.log_templates.csv\", index=False)\n",
    "            # logs_df.to_csv(f\"{rdir}/{dataset}_2k.log_structured.csv\", index=False)\n",
    "        except:\n",
    "            pass"
   ],
   "metadata": {
    "collapsed": false,
    "pycharm": {
     "name": "#%%\n"
    }
   }
  },
  {
   "cell_type": "code",
   "execution_count": 3,
   "outputs": [],
   "source": [],
   "metadata": {
    "collapsed": false,
    "pycharm": {
     "name": "#%%\n"
    }
   }
  },
  {
   "cell_type": "code",
   "execution_count": null,
   "outputs": [],
   "source": [],
   "metadata": {
    "collapsed": false,
    "pycharm": {
     "name": "#%%\n"
    }
   }
  }
 ],
 "metadata": {
  "kernelspec": {
   "display_name": "Python 3",
   "language": "python",
   "name": "python3"
  },
  "language_info": {
   "codemirror_mode": {
    "name": "ipython",
    "version": 2
   },
   "file_extension": ".py",
   "mimetype": "text/x-python",
   "name": "python",
   "nbconvert_exporter": "python",
   "pygments_lexer": "ipython2",
   "version": "2.7.6"
  }
 },
 "nbformat": 4,
 "nbformat_minor": 0
}